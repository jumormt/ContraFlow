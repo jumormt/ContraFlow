{
 "cells": [
  {
   "cell_type": "code",
   "execution_count": 2,
   "id": "97eacd5c",
   "metadata": {},
   "outputs": [],
   "source": [
    "from src.joern.ast_generator import build_ln_to_ast\n",
    "from transformers import RobertaTokenizer"
   ]
  },
  {
   "cell_type": "code",
   "execution_count": 3,
   "id": "0b8b7028",
   "metadata": {},
   "outputs": [],
   "source": [
    "file_path = \"/home/chengxiao/project/vul_detect/joern_slicer/main.cpp\"\n",
    "nodes_path = \"/home/chengxiao/project/vul_detect/joern_slicer/output/main.cpp/nodes.csv\"\n",
    "edges_path = \"/home/chengxiao/project/vul_detect/joern_slicer/output/main.cpp/edges.csv\""
   ]
  },
  {
   "cell_type": "code",
   "execution_count": 4,
   "id": "291ae056",
   "metadata": {},
   "outputs": [],
   "source": [
    "ln_to_ast = build_ln_to_ast(file_path, nodes_path, edges_path)"
   ]
  },
  {
   "cell_type": "code",
   "execution_count": 5,
   "id": "dc81a1aa",
   "metadata": {},
   "outputs": [
    {
     "data": {
      "text/html": [
       "\n",
       "        <iframe\n",
       "            width=\"1000\"\n",
       "            height=\"1000\"\n",
       "            src=\"a.html\"\n",
       "            frameborder=\"0\"\n",
       "            allowfullscreen\n",
       "        ></iframe>\n",
       "        "
      ],
      "text/plain": [
       "<IPython.lib.display.IFrame at 0x7f53c0038f40>"
      ]
     },
     "execution_count": 5,
     "metadata": {},
     "output_type": "execute_result"
    }
   ],
   "source": [
    "ast_graph = ln_to_ast[39]\n",
    "ast_graph.draw().show(\"a.html\")"
   ]
  },
  {
   "cell_type": "code",
   "execution_count": 5,
   "id": "02cb8c87",
   "metadata": {},
   "outputs": [],
   "source": [
    "tokenizer = RobertaTokenizer.from_pretrained(\"microsoft/codebert-base\")\n",
    "data = ast_graph.to_torch(tokenizer, 32)"
   ]
  },
  {
   "cell_type": "code",
   "execution_count": 6,
   "id": "22cc6649",
   "metadata": {},
   "outputs": [
    {
     "data": {
      "text/plain": [
       "Data(edge_index=[2, 6], node_type=[7], x=[7, 32])"
      ]
     },
     "execution_count": 6,
     "metadata": {},
     "output_type": "execute_result"
    }
   ],
   "source": [
    "data"
   ]
  },
  {
   "cell_type": "code",
   "execution_count": null,
   "id": "a5d4c008",
   "metadata": {},
   "outputs": [],
   "source": []
  }
 ],
 "metadata": {
  "interpreter": {
   "hash": "17b35117fdcc0ce963b219f20ad347b80e225e133a71b9c2ba438217571f814b"
  },
  "kernelspec": {
   "display_name": "Python 3 (ipykernel)",
   "language": "python",
   "name": "python3"
  },
  "language_info": {
   "codemirror_mode": {
    "name": "ipython",
    "version": 3
   },
   "file_extension": ".py",
   "mimetype": "text/x-python",
   "name": "python",
   "nbconvert_exporter": "python",
   "pygments_lexer": "ipython3",
   "version": "3.9.5"
  }
 },
 "nbformat": 4,
 "nbformat_minor": 5
}
